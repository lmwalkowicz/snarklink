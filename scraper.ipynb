{
 "cells": [
  {
   "cell_type": "code",
   "execution_count": null,
   "metadata": {},
   "outputs": [],
   "source": [
    "import tweepy\n",
    "import pandas as pd\n",
    "import csv\n",
    "import time\n",
    "import datetime\n",
    "import timeit"
   ]
  },
  {
   "cell_type": "code",
   "execution_count": null,
   "metadata": {},
   "outputs": [],
   "source": [
    "# Credentials\n",
    "\n",
    "import config\n",
    "\n",
    "auth = tweepy.OAuthHandler(config.consumer_key, config.consumer_secret)\n",
    "auth.set_access_token(config.access_token, config.access_token_secret)\n",
    "api = tweepy.API(auth,wait_on_rate_limit=True)"
   ]
  },
  {
   "cell_type": "code",
   "execution_count": null,
   "metadata": {},
   "outputs": [],
   "source": [
    "def mine_hashtag_tweets(q=\"starlink\", count=150, since=\"2020-08-18\"):\n",
    "    data           = []\n",
    "    analyzer       = SentimentIntensityAnalyzer()\n",
    "    for tweet in tweepy.Cursor(api.search,\n",
    "                               q=q,count=count,\n",
    "                               since=since,\n",
    "                               tweet_mode = 'extended',\n",
    "                               monitor_rate_limit=True,\n",
    "                               wait_on_rate_limit=True).items():\n",
    "        mined = {'tweet_id':        tweet.id,\n",
    "                 'name':            tweet.user.name,\n",
    "                 'screen_name':     tweet.user.screen_name,\n",
    "                 'retweet_count':   tweet.retweet_count,\n",
    "                 'text':            tweet.full_text,\n",
    "                 'mined_at':        datetime.datetime.now(),\n",
    "                 'created_at':      tweet.created_at,\n",
    "                 'favourite_count': tweet.favorite_count,\n",
    "                 'hashtags':        tweet.entities['hashtags'],\n",
    "                 'status_count':    tweet.user.statuses_count,\n",
    "                 'location':        tweet.place,\n",
    "                 'source_device':   tweet.source,\n",
    "                 'sentiment':       'unknown'} \n",
    "        try:\n",
    "            mined['retweet_text'] = tweet.retweeted_status.full_text\n",
    "        except:\n",
    "            mined['retweet_text'] = 'None'\n",
    "        try:\n",
    "            mined['quote_text'] = tweet.quoted_status.full_text\n",
    "            mined['quote_screen_name'] = tweet.quoted_status.user.screen_name\n",
    "        except:\n",
    "            mined['quote_text'] = 'None'\n",
    "            mined['quote_screen_name'] = 'None'\n",
    "        try:\n",
    "            score = analyzer.polarity_scores(mined['text'])['compound']\n",
    "            if score >= 0.05:\n",
    "                mined['sentiment'] = 'positive'\n",
    "            elif score > -0.05:\n",
    "                mined['sentiment'] = 'neutral'\n",
    "            elif score < -0.05:\n",
    "                mined['sentiment'] = 'negative'\n",
    "        except:\n",
    "            pass\n",
    " \n",
    "        \n",
    "        print('Grabbing tweet {0} from user {1}...'.format(tweet.id, tweet.user.name))\n",
    "        \n",
    "        data.append(mined)\n",
    "                            \n",
    "    return data "
   ]
  },
  {
   "cell_type": "markdown",
   "metadata": {},
   "source": [
    "## Grab all tweets referencing Starlink:"
   ]
  },
  {
   "cell_type": "code",
   "execution_count": null,
   "metadata": {},
   "outputs": [],
   "source": [
    "#timeit.timeit(mine_hashtag_tweets)"
   ]
  },
  {
   "cell_type": "code",
   "execution_count": null,
   "metadata": {},
   "outputs": [],
   "source": [
    "mined_tweets = mine_hashtag_tweets(q=\"starlink\",count=150,since=\"2020-08-18\")"
   ]
  },
  {
   "cell_type": "code",
   "execution_count": null,
   "metadata": {},
   "outputs": [],
   "source": [
    "mined_tweets_df= pd.DataFrame(mined_tweets)"
   ]
  },
  {
   "cell_type": "code",
   "execution_count": null,
   "metadata": {},
   "outputs": [],
   "source": [
    "mined_tweets_df"
   ]
  },
  {
   "cell_type": "code",
   "execution_count": null,
   "metadata": {},
   "outputs": [],
   "source": [
    "mined_tweets_df.to_pickle(\"./starlink_tweet_sample.pkl\")"
   ]
  }
 ],
 "metadata": {
  "kernelspec": {
   "display_name": "Python 3",
   "language": "python",
   "name": "python3"
  },
  "language_info": {
   "codemirror_mode": {
    "name": "ipython",
    "version": 3
   },
   "file_extension": ".py",
   "mimetype": "text/x-python",
   "name": "python",
   "nbconvert_exporter": "python",
   "pygments_lexer": "ipython3",
   "version": "3.6.8"
  }
 },
 "nbformat": 4,
 "nbformat_minor": 4
}
